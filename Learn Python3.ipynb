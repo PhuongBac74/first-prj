{
 "cells": [
  {
   "cell_type": "code",
   "execution_count": 50,
   "metadata": {},
   "outputs": [
    {
     "name": "stdout",
     "output_type": "stream",
     "text": [
      "['abcd', 789, 2.23, 'jonh', 70.2]\n",
      "2.23\n",
      "[789, 2.23]\n",
      "['abcd', 789, 2.23, 'jonh', 70.2, 'abcd', 789, 2.23, 'jonh', 70.2]\n",
      "['abcd', 789, 2.23, 'jonh', 70.2, 'jonh', 70.2]\n",
      "jonh\n",
      "['abcd', 789, 'jonh', 70.2]\n",
      "['abcd', 789, 'jonh', 70.2, 'C#']\n",
      "0\n",
      "list now :  ['abcd', 789, 'jonh', 70.2]\n",
      "list now :  ['abcd', 789, 'jonh']\n"
     ]
    }
   ],
   "source": [
    "#Variable type: Number, String, List, Tuple, Dictionary\n",
    "#List\n",
    "list = ['abcd', 789, 2.23, 'jonh', 70.2]\n",
    "print (list)\n",
    "print(list[2])\n",
    "print(list[1:3])\n",
    "print(list*2)\n",
    "print(list + list[3:]) #add an element to list\n",
    "print(list[-2]) #Negative: count from the right offsets start at -1\n",
    "del list[2]\n",
    "print(list)\n",
    "list.append(\"C#\") #add an element to list by queue\n",
    "print(list)\n",
    "print(list.count(2.23)) # returns count of how many times obj occurs in list\n",
    "list.pop()\n",
    "print (\"list now : \", list) \n",
    "list.pop(3)\n",
    "print (\"list now : \", list)#removed obj from the list"
   ]
  },
  {
   "cell_type": "code",
   "execution_count": 6,
   "metadata": {},
   "outputs": [
    {
     "name": "stdout",
     "output_type": "stream",
     "text": [
      "('abcd', 786, 2.23, 'jonh', 70.2)\n",
      "abcd\n",
      "(786, 2.23)\n"
     ]
    }
   ],
   "source": [
    "#tuples\n",
    "tuple = ('abcd', 786, 2.23, 'jonh', 70.2)\n",
    "print(tuple)\n",
    "print(tuple[0])\n",
    "print(tuple[1:3])\n",
    "#tuple read-only."
   ]
  },
  {
   "cell_type": "code",
   "execution_count": 11,
   "metadata": {},
   "outputs": [
    {
     "name": "stdout",
     "output_type": "stream",
     "text": [
      "dict_keys(['one', 2, 3])\n",
      "dict_values(['this is one', 'this is two', 'this is three'])\n"
     ]
    }
   ],
   "source": [
    "#Dictionary: values can be assigned and accessed using square braces ([])\n",
    "dict = {'one':\"this is one\", 2: \"this is two\", 3: \"this is three\"}\n",
    "#dict['one'] = \"this is one\"\n",
    "#dict[2] = \"This is two\"\n",
    "print(dict.keys())\n",
    "print(dict.values())"
   ]
  },
  {
   "cell_type": "code",
   "execution_count": 20,
   "metadata": {},
   "outputs": [
    {
     "name": "stdout",
     "output_type": "stream",
     "text": [
      "3.75\n",
      "3\n",
      "3\n",
      "18\n",
      "3\n",
      "45\n",
      "3.0\n",
      "3.0\n",
      "0.0\n"
     ]
    }
   ],
   "source": [
    "#Operator\n",
    "a=15\n",
    "b=4\n",
    "c=3\n",
    "#Division\n",
    "print(a/b)\n",
    "#Mod: chia lay du\n",
    "print(a%b)\n",
    "#Floor division: chia lay nguyen\n",
    "print(a//b)\n",
    "#Assignment Operator\n",
    "c+=a\n",
    "print(c) #c=c+a\n",
    "c-=a\n",
    "print(c) #c=c-a\n",
    "c*=a\n",
    "print(c) #c=c*a\n",
    "c/=a\n",
    "print(c) #c=c/a\n",
    "c%=a\n",
    "print(c) #c=c%a\n",
    "c//=a\n",
    "print(c) #c=c//a\n"
   ]
  },
  {
   "cell_type": "code",
   "execution_count": 37,
   "metadata": {},
   "outputs": [
    {
     "name": "stdout",
     "output_type": "stream",
     "text": [
      "Enter your amount: 1500\n",
      "Discount 15% is 150.0\n",
      "Pay: 1350.0\n"
     ]
    }
   ],
   "source": [
    "#Statments\n",
    "amount = int(input(\"Enter your amount: \"))\n",
    "if amount < 1000:\n",
    "    d=\"5%\"\n",
    "    discount = amount*0.05\n",
    "elif amount < 2000:\n",
    " d=\"15%\"\n",
    " discount = amount*0.1\n",
    "else:\n",
    "    d=\"15%\"\n",
    "    discount = amount*0.15\n",
    "print(\"Discount %s is %s\" % (d, discount))\n",
    "print(\"Pay:\", amount - discount)"
   ]
  },
  {
   "cell_type": "code",
   "execution_count": 34,
   "metadata": {},
   "outputs": [
    {
     "name": "stdout",
     "output_type": "stream",
     "text": [
      "math.ceil(-45.17): -45\n"
     ]
    }
   ],
   "source": [
    "#Mathematical function\n",
    "import math\n",
    "print(\"math.ceil(-45.17):\", math.ceil(-45.17)) #tra ve so nguyen gan nhat lon hon x\n"
   ]
  },
  {
   "cell_type": "code",
   "execution_count": 35,
   "metadata": {},
   "outputs": [
    {
     "data": {
      "text/plain": [
       "70.23"
      ]
     },
     "execution_count": 35,
     "metadata": {},
     "output_type": "execute_result"
    }
   ],
   "source": [
    "#lam tron so\n",
    "round(70.23456,2)"
   ]
  },
  {
   "cell_type": "code",
   "execution_count": 36,
   "metadata": {},
   "outputs": [
    {
     "name": "stdout",
     "output_type": "stream",
     "text": [
      "returns a random number from range(100) :  92\n",
      "returns random element from list [1, 2, 3, 5, 9]) :  1\n",
      "returns random character from string 'Hello World' :  o\n"
     ]
    }
   ],
   "source": [
    "#choices\n",
    "import random\n",
    "\n",
    "print (\"returns a random number from range(100) : \",random.choice(range(100)))\n",
    "print (\"returns random element from list [1, 2, 3, 5, 9]) : \", random.choice([1, 2, 3, 5, 9]))\n",
    "print (\"returns random character from string 'Hello World' : \", random.choice('Hello World'))\n",
    "# randomly select an odd number between 1-100 \n",
    "print (\"randrange(1,100, 2) : \", random.randrange(1, 100, 2))\n",
    "\n",
    "# randomly select a number between 0-99 \n",
    "print (\"randrange(100) : \", random.randrange(100))"
   ]
  },
  {
   "cell_type": "code",
   "execution_count": 54,
   "metadata": {},
   "outputs": [
    {
     "name": "stdout",
     "output_type": "stream",
     "text": [
      "time.struct_time(tm_year=2020, tm_mon=7, tm_mday=26, tm_hour=15, tm_min=54, tm_sec=51, tm_wday=6, tm_yday=208, tm_isdst=0)\n",
      "Sun Jul 26 15:54:51 2020\n"
     ]
    }
   ],
   "source": [
    "#date and time\n",
    "import time\n",
    "ticks = time.time()\n",
    "print(time.localtime())\n",
    "print(time.asctime(time.localtime(time.time())))"
   ]
  },
  {
   "cell_type": "code",
   "execution_count": 57,
   "metadata": {},
   "outputs": [
    {
     "name": "stdout",
     "output_type": "stream",
     "text": [
      "Name: Zara ,Salary:  200\n",
      "Name: Manni ,Salary:  300\n",
      "total number 2 Employee\n",
      "Name: Zara ,Salary:  7000\n"
     ]
    }
   ],
   "source": [
    "#OOP\n",
    "class Employee:\n",
    "    empCount = 0  #class variable\n",
    "    def __init__(self, name, salary): #constructor or initialization method\n",
    "        self.name = name\n",
    "        self.salary = salary\n",
    "        Employee.empCount +=1\n",
    "    def displayCount(self):\n",
    "        print(\"Total Employee %d\" % Employee.empCount)\n",
    "    def displayEmployee(self):\n",
    "        print(\"Name:\", self.name, \",Salary: \", self.salary)\n",
    "\n",
    "        \n",
    "emp1= Employee(\"Zara\", 200) #creat instance Obj\n",
    "emp2= Employee(\"Manni\", 300)\n",
    "emp1.displayEmployee()#accessing attributes\n",
    "emp2.displayEmployee()\n",
    "print(\"total number %d Employee\" % Employee.empCount)\n",
    "#emp1.salary=7000\n",
    "setattr(emp1, 'salary', 7000)\n",
    "emp1.displayEmployee()"
   ]
  },
  {
   "cell_type": "code",
   "execution_count": 65,
   "metadata": {},
   "outputs": [
    {
     "name": "stdout",
     "output_type": "stream",
     "text": [
      "calling child constructor\n",
      "calling child method\n",
      "calling parent method\n",
      "Parent attribute : 200\n"
     ]
    }
   ],
   "source": [
    "#class inheritance\n",
    "class Parent:\n",
    "    def __init__(self):\n",
    "        print(\"Calling parent constructor\")\n",
    "    def parentMethod(self):\n",
    "        print(\"calling parent method\")\n",
    "    def setAttr(self, attr):\n",
    "        Parent.parentAttr = attr\n",
    "    def getAttr(self):\n",
    "        print (\"Parent attribute :\", Parent.parentAttr)\n",
    "class Child(Parent): #define child class\n",
    "    def __init__(self):\n",
    "        print(\"calling child constructor\")\n",
    "    def childMethod(self):\n",
    "        print('calling child method')\n",
    "c=Child() #instance of child\n",
    "c.childMethod() # child calling its Method\n",
    "c.parentMethod() #calling parent's method\n",
    "c.setAttr(200)\n",
    "c.getAttr()"
   ]
  },
  {
   "cell_type": "code",
   "execution_count": 66,
   "metadata": {},
   "outputs": [
    {
     "name": "stdout",
     "output_type": "stream",
     "text": [
      "calling child method\n"
     ]
    }
   ],
   "source": [
    "#overriding methods\n",
    "class Parent:\n",
    "    def myMethod(self):\n",
    "        print('Calling parent method')\n",
    "class  Child(Parent):\n",
    "    def myMethod(self):\n",
    "        print('calling child method')\n",
    "c=Child()\n",
    "c.myMethod()"
   ]
  },
  {
   "cell_type": "code",
   "execution_count": 68,
   "metadata": {},
   "outputs": [
    {
     "name": "stdout",
     "output_type": "stream",
     "text": [
      "vector (7, 8)\n"
     ]
    }
   ],
   "source": [
    "#over loading operators\n",
    "class Vector:\n",
    "    def __init__(self, a, b):\n",
    "        self.a=a\n",
    "        self.b=b\n",
    "    def __str__(self):\n",
    "        return 'vector (%d, %d)'% (self.a, self.b)\n",
    "    def __add__(self, other):\n",
    "        return Vector(self.a + other.a, self.b + other.b)\n",
    "v1=Vector(2,10)\n",
    "v2=Vector(5,-2)\n",
    "print(v1+v2)\n",
    "        "
   ]
  },
  {
   "cell_type": "code",
   "execution_count": null,
   "metadata": {},
   "outputs": [],
   "source": []
  }
 ],
 "metadata": {
  "kernelspec": {
   "display_name": "Python 3",
   "language": "python",
   "name": "python3"
  },
  "language_info": {
   "codemirror_mode": {
    "name": "ipython",
    "version": 3
   },
   "file_extension": ".py",
   "mimetype": "text/x-python",
   "name": "python",
   "nbconvert_exporter": "python",
   "pygments_lexer": "ipython3",
   "version": "3.7.6"
  }
 },
 "nbformat": 4,
 "nbformat_minor": 4
}
